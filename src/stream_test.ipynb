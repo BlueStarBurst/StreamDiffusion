{
 "cells": [
  {
   "cell_type": "code",
   "execution_count": 4,
   "metadata": {},
   "outputs": [
    {
     "ename": "ImportError",
     "evalue": "cannot import name 'FromSingleFileMixin' from 'diffusers.loaders' (/Users/bjh200003/miniconda3/envs/streamdiffusion/lib/python3.10/site-packages/diffusers/loaders/__init__.py)",
     "output_type": "error",
     "traceback": [
      "\u001b[0;31m---------------------------------------------------------------------------\u001b[0m",
      "\u001b[0;31mImportError\u001b[0m                               Traceback (most recent call last)",
      "Cell \u001b[0;32mIn[4], line 5\u001b[0m\n\u001b[1;32m      2\u001b[0m \u001b[38;5;28;01mfrom\u001b[39;00m \u001b[38;5;21;01mdiffusers\u001b[39;00m \u001b[38;5;28;01mimport\u001b[39;00m AutoencoderTiny, StableDiffusionPipeline\n\u001b[1;32m      3\u001b[0m \u001b[38;5;28;01mfrom\u001b[39;00m \u001b[38;5;21;01mdiffusers\u001b[39;00m\u001b[38;5;21;01m.\u001b[39;00m\u001b[38;5;21;01mutils\u001b[39;00m \u001b[38;5;28;01mimport\u001b[39;00m load_image\n\u001b[0;32m----> 5\u001b[0m \u001b[38;5;28;01mfrom\u001b[39;00m \u001b[38;5;21;01mstreamdiffusion\u001b[39;00m \u001b[38;5;28;01mimport\u001b[39;00m StreamDiffusion\n\u001b[1;32m      6\u001b[0m \u001b[38;5;28;01mfrom\u001b[39;00m \u001b[38;5;21;01mstreamdiffusion\u001b[39;00m\u001b[38;5;21;01m.\u001b[39;00m\u001b[38;5;21;01mimage_utils\u001b[39;00m \u001b[38;5;28;01mimport\u001b[39;00m postprocess_image\n",
      "File \u001b[0;32m~/Desktop/Repos/AIM24S/Bryant/StreamDiffusion/src/streamdiffusion/__init__.py:1\u001b[0m\n\u001b[0;32m----> 1\u001b[0m \u001b[38;5;28;01mfrom\u001b[39;00m \u001b[38;5;21;01m.\u001b[39;00m\u001b[38;5;21;01mpipeline\u001b[39;00m \u001b[38;5;28;01mimport\u001b[39;00m StreamDiffusion\n",
      "File \u001b[0;32m~/Desktop/Repos/AIM24S/Bryant/StreamDiffusion/src/streamdiffusion/pipeline.py:9\u001b[0m\n\u001b[1;32m      7\u001b[0m \u001b[38;5;28;01mfrom\u001b[39;00m \u001b[38;5;21;01mdiffusers\u001b[39;00m \u001b[38;5;28;01mimport\u001b[39;00m LCMScheduler, StableDiffusionPipeline\n\u001b[1;32m      8\u001b[0m \u001b[38;5;28;01mfrom\u001b[39;00m \u001b[38;5;21;01mdiffusers\u001b[39;00m\u001b[38;5;21;01m.\u001b[39;00m\u001b[38;5;21;01mimage_processor\u001b[39;00m \u001b[38;5;28;01mimport\u001b[39;00m VaeImageProcessor\n\u001b[0;32m----> 9\u001b[0m \u001b[38;5;28;01mfrom\u001b[39;00m \u001b[38;5;21;01mdiffusers\u001b[39;00m\u001b[38;5;21;01m.\u001b[39;00m\u001b[38;5;21;01mpipelines\u001b[39;00m\u001b[38;5;21;01m.\u001b[39;00m\u001b[38;5;21;01mstable_diffusion\u001b[39;00m\u001b[38;5;21;01m.\u001b[39;00m\u001b[38;5;21;01mpipeline_stable_diffusion_img2img\u001b[39;00m \u001b[38;5;28;01mimport\u001b[39;00m (\n\u001b[1;32m     10\u001b[0m     retrieve_latents,\n\u001b[1;32m     11\u001b[0m )\n\u001b[1;32m     13\u001b[0m \u001b[38;5;28;01mfrom\u001b[39;00m \u001b[38;5;21;01mstreamdiffusion\u001b[39;00m\u001b[38;5;21;01m.\u001b[39;00m\u001b[38;5;21;01mimage_filter\u001b[39;00m \u001b[38;5;28;01mimport\u001b[39;00m SimilarImageFilter\n\u001b[1;32m     16\u001b[0m \u001b[38;5;28;01mclass\u001b[39;00m \u001b[38;5;21;01mStreamDiffusion\u001b[39;00m:\n",
      "File \u001b[0;32m~/miniconda3/envs/streamdiffusion/lib/python3.10/site-packages/diffusers/pipelines/stable_diffusion/pipeline_stable_diffusion_img2img.py:26\u001b[0m\n\u001b[1;32m     24\u001b[0m \u001b[38;5;28;01mfrom\u001b[39;00m \u001b[38;5;21;01m.\u001b[39;00m\u001b[38;5;21;01m.\u001b[39;00m\u001b[38;5;21;01m.\u001b[39;00m\u001b[38;5;21;01mconfiguration_utils\u001b[39;00m \u001b[38;5;28;01mimport\u001b[39;00m FrozenDict\n\u001b[1;32m     25\u001b[0m \u001b[38;5;28;01mfrom\u001b[39;00m \u001b[38;5;21;01m.\u001b[39;00m\u001b[38;5;21;01m.\u001b[39;00m\u001b[38;5;21;01m.\u001b[39;00m\u001b[38;5;21;01mimage_processor\u001b[39;00m \u001b[38;5;28;01mimport\u001b[39;00m PipelineImageInput, VaeImageProcessor\n\u001b[0;32m---> 26\u001b[0m \u001b[38;5;28;01mfrom\u001b[39;00m \u001b[38;5;21;01m.\u001b[39;00m\u001b[38;5;21;01m.\u001b[39;00m\u001b[38;5;21;01m.\u001b[39;00m\u001b[38;5;21;01mloaders\u001b[39;00m \u001b[38;5;28;01mimport\u001b[39;00m FromSingleFileMixin, IPAdapterMixin, LoraLoaderMixin, TextualInversionLoaderMixin\n\u001b[1;32m     27\u001b[0m \u001b[38;5;28;01mfrom\u001b[39;00m \u001b[38;5;21;01m.\u001b[39;00m\u001b[38;5;21;01m.\u001b[39;00m\u001b[38;5;21;01m.\u001b[39;00m\u001b[38;5;21;01mmodels\u001b[39;00m \u001b[38;5;28;01mimport\u001b[39;00m AutoencoderKL, UNet2DConditionModel\n\u001b[1;32m     28\u001b[0m \u001b[38;5;28;01mfrom\u001b[39;00m \u001b[38;5;21;01m.\u001b[39;00m\u001b[38;5;21;01m.\u001b[39;00m\u001b[38;5;21;01m.\u001b[39;00m\u001b[38;5;21;01mmodels\u001b[39;00m\u001b[38;5;21;01m.\u001b[39;00m\u001b[38;5;21;01mlora\u001b[39;00m \u001b[38;5;28;01mimport\u001b[39;00m adjust_lora_scale_text_encoder\n",
      "\u001b[0;31mImportError\u001b[0m: cannot import name 'FromSingleFileMixin' from 'diffusers.loaders' (/Users/bjh200003/miniconda3/envs/streamdiffusion/lib/python3.10/site-packages/diffusers/loaders/__init__.py)"
     ]
    }
   ],
   "source": [
    "import torch\n",
    "from diffusers import AutoencoderTiny, StableDiffusionPipeline\n",
    "from diffusers.utils import load_image\n",
    "#s\n",
    "from stresamdiffusion import StreamDiffusion\n",
    "from streamdiffusion.image_utils import postprocess_image"
   ]
  },
  {
   "cell_type": "code",
   "execution_count": null,
   "metadata": {},
   "outputs": [],
   "source": [
    "\n",
    "\n",
    "# You can load any models using diffuser's StableDiffusionPipeline\n",
    "pipe = StableDiffusionPipeline.from_pretrained(\"KBlueLeaf/kohaku-v2.1\").to(\n",
    "    device=torch.device(\"cuda\"),\n",
    "    dtype=torch.float16,\n",
    ")\n",
    "\n",
    "# Wrap the pipeline in StreamDiffusion\n",
    "stream = StreamDiffusion(\n",
    "    pipe,\n",
    "    t_index_list=[32, 45],\n",
    "    torch_dtype=torch.float16,\n",
    ")\n",
    "\n",
    "# If the loaded model is not LCM, merge LCM\n",
    "stream.load_lcm_lora()\n",
    "stream.fuse_lora()\n",
    "# Use Tiny VAE for further acceleration\n",
    "stream.vae = AutoencoderTiny.from_pretrained(\"madebyollin/taesd\").to(device=pipe.device, dtype=pipe.dtype)\n",
    "# Enable acceleration\n",
    "pipe.enable_xformers_memory_efficient_attention()\n",
    "\n",
    "\n",
    "prompt = \"1girl with dog hair, thick frame glasses\"\n",
    "# Prepare the stream\n",
    "stream.prepare(prompt)\n",
    "\n",
    "# Prepare image\n",
    "init_image = load_image(\"assets/img2img_example.png\").resize((512, 512))\n",
    "\n",
    "# Warmup >= len(t_index_list) x frame_buffer_size\n",
    "for _ in range(2):\n",
    "    stream(init_image)\n",
    "\n",
    "# Run the stream infinitely\n",
    "while True:\n",
    "    x_output = stream(init_image)\n",
    "    postprocess_image(x_output, output_type=\"pil\")[0].show()\n",
    "    input_response = input(\"Press Enter to continue or type 'stop' to exit: \")\n",
    "    if input_response == \"stop\":\n",
    "        break"
   ]
  }
 ],
 "metadata": {
  "kernelspec": {
   "display_name": "streamdiffusion",
   "language": "python",
   "name": "python3"
  },
  "language_info": {
   "codemirror_mode": {
    "name": "ipython",
    "version": 3
   },
   "file_extension": ".py",
   "mimetype": "text/x-python",
   "name": "python",
   "nbconvert_exporter": "python",
   "pygments_lexer": "ipython3",
   "version": "3.10.14"
  }
 },
 "nbformat": 4,
 "nbformat_minor": 2
}
